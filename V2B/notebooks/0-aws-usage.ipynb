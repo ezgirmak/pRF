{
 "cells": [
  {
   "cell_type": "markdown",
   "metadata": {},
   "source": [
    "# Downloading HCP Data from AWS S3 bucket using Command Line"
   ]
  },
  {
   "cell_type": "markdown",
   "metadata": {},
   "source": [
    "## Setting up AWS "
   ]
  },
  {
   "cell_type": "markdown",
   "metadata": {},
   "source": [
    "We can use Amazon web services to bulk download HCP data. We first need to download AWS CLI (Command Line Interface). In the command line, type\n",
    "\n",
    "`$pip install awscli`\n",
    "\n",
    "or run the cell below:"
   ]
  },
  {
   "cell_type": "code",
   "execution_count": 2,
   "metadata": {
    "collapsed": false
   },
   "outputs": [
    {
     "name": "stdout",
     "output_type": "stream",
     "text": [
      "Collecting awscli\n",
      "\u001b[33m  Cache entry deserialization failed, entry ignored\u001b[0m\n",
      "  Downloading https://files.pythonhosted.org/packages/3c/8a/5f649927b6e4441ba8aa312c5660fb25fb68ba13dbc4814b40d14ca0cd6b/awscli-1.16.118-py2.py3-none-any.whl (1.5MB)\n",
      "\u001b[K    100% |████████████████████████████████| 1.5MB 368kB/s eta 0:00:01\n",
      "\u001b[?25hCollecting rsa<=3.5.0,>=3.1.2 (from awscli)\n",
      "\u001b[33m  Cache entry deserialization failed, entry ignored\u001b[0m\n",
      "\u001b[33m  Cache entry deserialization failed, entry ignored\u001b[0m\n",
      "  Downloading https://files.pythonhosted.org/packages/e1/ae/baedc9cb175552e95f3395c43055a6a5e125ae4d48a1d7a924baca83e92e/rsa-3.4.2-py2.py3-none-any.whl (46kB)\n",
      "\u001b[K    100% |████████████████████████████████| 51kB 760kB/s eta 0:00:01\n",
      "\u001b[?25hRequirement already satisfied: docutils>=0.10 in /mnt/home/yucel/.conda/envs/py3/lib/python3.6/site-packages (from awscli)\n",
      "Collecting colorama<=0.3.9,>=0.2.5 (from awscli)\n",
      "\u001b[33m  Cache entry deserialization failed, entry ignored\u001b[0m\n",
      "\u001b[33m  Cache entry deserialization failed, entry ignored\u001b[0m\n",
      "  Downloading https://files.pythonhosted.org/packages/db/c8/7dcf9dbcb22429512708fe3a547f8b6101c0d02137acbd892505aee57adf/colorama-0.3.9-py2.py3-none-any.whl\n",
      "Collecting s3transfer<0.3.0,>=0.2.0 (from awscli)\n",
      "\u001b[33m  Cache entry deserialization failed, entry ignored\u001b[0m\n",
      "  Downloading https://files.pythonhosted.org/packages/d7/de/5737f602e22073ecbded7a0c590707085e154e32b68d86545dcc31004c02/s3transfer-0.2.0-py2.py3-none-any.whl (69kB)\n",
      "\u001b[K    100% |████████████████████████████████| 71kB 700kB/s eta 0:00:01\n",
      "\u001b[?25hRequirement already satisfied: PyYAML<=3.13,>=3.10 in /mnt/home/yucel/.conda/envs/py3/lib/python3.6/site-packages (from awscli)\n",
      "Collecting botocore==1.12.108 (from awscli)\n",
      "\u001b[33m  Cache entry deserialization failed, entry ignored\u001b[0m\n",
      "  Downloading https://files.pythonhosted.org/packages/e1/a8/94a28e61ea5c0f7a4eef160568093f84d85e148247126b3f0c955ff153f9/botocore-1.12.108-py2.py3-none-any.whl (5.3MB)\n",
      "\u001b[K    100% |████████████████████████████████| 5.3MB 122kB/s eta 0:00:01\n",
      "\u001b[?25hCollecting pyasn1>=0.1.3 (from rsa<=3.5.0,>=3.1.2->awscli)\n",
      "\u001b[33m  Cache entry deserialization failed, entry ignored\u001b[0m\n",
      "\u001b[33m  Cache entry deserialization failed, entry ignored\u001b[0m\n",
      "  Downloading https://files.pythonhosted.org/packages/7b/7c/c9386b82a25115cccf1903441bba3cbadcfae7b678a20167347fa8ded34c/pyasn1-0.4.5-py2.py3-none-any.whl (73kB)\n",
      "\u001b[K    100% |████████████████████████████████| 81kB 573kB/s eta 0:00:01\n",
      "\u001b[?25hRequirement already satisfied: jmespath<1.0.0,>=0.7.1 in /mnt/home/yucel/.conda/envs/py3/lib/python3.6/site-packages (from botocore==1.12.108->awscli)\n",
      "Requirement already satisfied: python-dateutil<3.0.0,>=2.1; python_version >= \"2.7\" in /mnt/home/yucel/.conda/envs/py3/lib/python3.6/site-packages (from botocore==1.12.108->awscli)\n",
      "Requirement already satisfied: urllib3<1.25,>=1.20; python_version >= \"3.4\" in /mnt/home/yucel/.conda/envs/py3/lib/python3.6/site-packages (from botocore==1.12.108->awscli)\n",
      "Requirement already satisfied: six>=1.5 in /mnt/home/yucel/.conda/envs/py3/lib/python3.6/site-packages (from python-dateutil<3.0.0,>=2.1; python_version >= \"2.7\"->botocore==1.12.108->awscli)\n",
      "Installing collected packages: pyasn1, rsa, colorama, botocore, s3transfer, awscli\n",
      "  Found existing installation: botocore 1.12.9\n",
      "    Uninstalling botocore-1.12.9:\n",
      "      Successfully uninstalled botocore-1.12.9\n",
      "  Found existing installation: s3transfer 0.1.13\n",
      "    Uninstalling s3transfer-0.1.13:\n",
      "      Successfully uninstalled s3transfer-0.1.13\n",
      "Successfully installed awscli-1.16.118 botocore-1.12.108 colorama-0.3.9 pyasn1-0.4.5 rsa-3.4.2 s3transfer-0.2.0\n",
      "\u001b[33mYou are using pip version 9.0.1, however version 19.0.3 is available.\n",
      "You should consider upgrading via the 'pip install --upgrade pip' command.\u001b[0m\n"
     ]
    }
   ],
   "source": [
    "!pip install awscli"
   ]
  },
  {
   "cell_type": "markdown",
   "metadata": {},
   "source": [
    "We also need to set up aws credentials for accesing HCP. The first step is to log in to\n",
    "\n",
    "https://db.humanconnectome.org/data/projects/HCP_1200\n",
    "\n",
    "\n",
    "Here, we need to generate a public key by clicking on AWS Public Data Set. This step should give you a 20 letter access key id and a secret key in addition to your username.\n"
   ]
  },
  {
   "cell_type": "markdown",
   "metadata": {},
   "source": [
    "Since different databases use AWS services, it is advisable to set up a profile for HCP usage only. To do that navigate to .aws folder where awscli is first installed and open credentials file in a text editor. If you do not have that file you can type \n",
    "\n",
    "`$aws configure --profile=hcp`\n",
    "\n",
    "Then enter your public and secret access key.\n"
   ]
  },
  {
   "cell_type": "markdown",
   "metadata": {},
   "source": [
    "#### Now you should be able to navigate in S3 bucket of HCP with your credentials"
   ]
  },
  {
   "cell_type": "markdown",
   "metadata": {},
   "source": [
    "A quick check can be done by using ls (list) command:\n",
    "\n",
    "\n",
    "`$aws s3 ls  s3://hcp-openaccess/HCP/  --profile=hcp`"
   ]
  },
  {
   "cell_type": "markdown",
   "metadata": {},
   "source": [
    "We can download files using the command cp:"
   ]
  },
  {
   "cell_type": "code",
   "execution_count": null,
   "metadata": {
    "collapsed": true
   },
   "outputs": [],
   "source": [
    "`aws s3 cp --recursive s3://hcp-openaccess/HCP/100307 ~/tmp/ --profile=hcp`"
   ]
  }
 ],
 "metadata": {
  "kernelspec": {
   "display_name": "Python 2",
   "language": "python",
   "name": "python2"
  },
  "language_info": {
   "codemirror_mode": {
    "name": "ipython",
    "version": 2
   },
   "file_extension": ".py",
   "mimetype": "text/x-python",
   "name": "python",
   "nbconvert_exporter": "python",
   "pygments_lexer": "ipython2",
   "version": "2.7.13"
  }
 },
 "nbformat": 4,
 "nbformat_minor": 2
}
